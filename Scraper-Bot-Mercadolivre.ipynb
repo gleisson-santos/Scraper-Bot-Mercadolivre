{
 "cells": [
  {
   "cell_type": "code",
   "execution_count": 3,
   "id": "9f5ec7ea",
   "metadata": {},
   "outputs": [],
   "source": [
    "from selenium.webdriver.common.keys import Keys\n",
    "from selenium.webdriver.common.by import By\n",
    "from selenium.webdriver.chrome.options import Options\n",
    "from webdriver_manager.chrome import ChromeDriverManager\n",
    "from selenium import webdriver\n",
    "import pandas as pd\n",
    "import time\n",
    "import os\n",
    "import random\n",
    "from time import sleep\n",
    "import schedule\n",
    "import tkinter as tk\n",
    "import tkinter.filedialog as filedialog\n",
    "from selenium.common.exceptions import StaleElementReferenceException"
   ]
  },
  {
   "cell_type": "code",
   "execution_count": 55,
   "id": "77a4865a",
   "metadata": {},
   "outputs": [],
   "source": [
    "root = tk.Tk()\n",
    "root.withdraw()\n",
    "nome_arquivo = filedialog.asksaveasfilename(defaultextension=\".txt\")\n",
    "\n",
    "if nome_arquivo:\n",
    "    with open(nome_arquivo, 'a', newline='', encoding='utf-8') as arquivo:\n",
    "        for titulo, preco in zip(titulos, precos):\n",
    "            arquivo.write(titulo.text + ',' + preco.text + os.linesep)\n",
    "root.destroy()\n"
   ]
  },
  {
   "cell_type": "code",
   "execution_count": 32,
   "id": "25d120cb",
   "metadata": {},
   "outputs": [],
   "source": [
    "def buscar_precos1():\n",
    "    # 0 - Abrir o navegador\n",
    "    print('passei aqui')\n",
    "    options = Options()\n",
    "    options.add_argument(\"start-maximized\")\n",
    "    driver = webdriver.Chrome(ChromeDriverManager().install())\n",
    "    chrome_options = webdriver.ChromeOptions()\n",
    "    print('definido chromedriver')\n",
    "    # 1 - Naveguei até o site(url)\n",
    "    driver.get('https://www.mercadolivre.com.br')\n",
    "\n",
    "\n",
    "    # 2 - Pesquisar por produto\n",
    "    sleep(random.randint(1, 3))\n",
    "    campo_pesquisa = driver.find_element_by_xpath(\n",
    "        \"//input[@class='nav-search-input']\")\n",
    "    sleep(random.randint(1, 3))\n",
    "    campo_pesquisa.click()\n",
    "    sleep(random.randint(1, 3))\n",
    "    nome_produto = input('Digite o nome do produto que deseja buscar!')\n",
    "    campo_pesquisa.send_keys(nome_produto)\n",
    "    sleep(random.randint(1, 3))\n",
    "    campo_pesquisa.send_keys(Keys.ENTER)\n",
    "    sleep(random.randint(1, 3))\n",
    "\n",
    "    passagens = 0\n",
    "    pagina = 0\n",
    "    limite_passagens = 5 # defina o limite desejado aqui\n",
    "   \n",
    "\n",
    "    # Sinaliza que o processo de busca está em andamento\n",
    "    print('Buscando preços. Por favor, aguarde...')\n",
    "    \n",
    "    \n",
    "    while passagens < limite_passagens:\n",
    "        # 4 - Extrair o titulo e preço\n",
    "        try:\n",
    "            sleep(random.randint(1, 3))\n",
    "            titulos = driver.find_elements_by_xpath(\"//h2[@class='ui-search-item__title ui-search-item__group__element shops__items-group-details shops__item-title']\")\n",
    "        except:\n",
    "            print('Não estamos no formato thumbnail')\n",
    "        try:\n",
    "            sleep(random.randint(1, 3))\n",
    "            titulos = driver.find_elements_by_xpath(\"//h2[@class='ui-search-item__title shops__item-title']\")\n",
    "        except:\n",
    "            print('Não estamos no format listagem')\n",
    "\n",
    "        sleep(random.randint(1, 3))         \n",
    "        precos = driver.find_elements_by_xpath(\n",
    "        \"//div[@class='ui-search-price ui-search-price--size-medium shops__price']//div[@class='ui-search-price__second-line shops__price-second-line']//span[@class='price-tag ui-search-price__part shops__price-part']//span[@class='price-tag-fraction']\")\n",
    "\n",
    "        # Adiciona os valores de cada página nas listas\n",
    "\n",
    "        for titulo, preco in zip(titulos, precos):\n",
    "            with open('celulares.txt', 'a', newline='', encoding='utf-8') as arquivo:\n",
    "                arquivo.write(titulo.text + ',' + preco.text + os.linesep)\n",
    "\n",
    "        # 5 - Navegar até o próxima página  \n",
    "\n",
    "        try:\n",
    "            sleep(random.randint(1, 3))\n",
    "            driver.execute_script('window.scrollTo(0,document.body.scrollHeight);')\n",
    "            botao_proximo = driver.find_element_by_xpath(\n",
    "                \"//span[@class='andes-pagination__arrow-title' and contains(text(), 'Seguinte')]\")\n",
    "            sleep(random.randint(1, 3))\n",
    "            botao_proximo.click()\n",
    "            pagina +=1\n",
    "            print(\"Estou na pagina {}\".format(pagina))\n",
    "            sleep(random.randint(1, 2))\n",
    "            passagens += 1\n",
    "        except:\n",
    "            print('Não há mais botões \"Seguinte\"')\n",
    "            break   \n"
   ]
  },
  {
   "cell_type": "code",
   "execution_count": 33,
   "id": "85148b42",
   "metadata": {
    "collapsed": true
   },
   "outputs": [
    {
     "name": "stdout",
     "output_type": "stream",
     "text": [
      "passei aqui\n",
      "\n"
     ]
    },
    {
     "name": "stderr",
     "output_type": "stream",
     "text": [
      "[WDM] - ====== WebDriver manager ======\n",
      "[WDM] - Current google-chrome version is 110.0.5481\n",
      "[WDM] - Get LATEST chromedriver version for 110.0.5481 google-chrome\n",
      "[WDM] - Driver [C:\\Users\\gleisson.santos\\.wdm\\drivers\\chromedriver\\win32\\110.0.5481.77\\chromedriver.exe] found in cache\n",
      "C:\\Users\\GLEISS~1.SAN\\AppData\\Local\\Temp/ipykernel_17028/1376974908.py:6: DeprecationWarning: executable_path has been deprecated, please pass in a Service object\n",
      "  driver = webdriver.Chrome(ChromeDriverManager().install())\n"
     ]
    },
    {
     "name": "stdout",
     "output_type": "stream",
     "text": [
      "definido chromedriver\n"
     ]
    },
    {
     "name": "stderr",
     "output_type": "stream",
     "text": [
      "C:\\Users\\GLEISS~1.SAN\\AppData\\Local\\Temp/ipykernel_17028/1376974908.py:15: DeprecationWarning: find_element_by_xpath is deprecated. Please use find_element(by=By.XPATH, value=xpath) instead\n",
      "  campo_pesquisa = driver.find_element_by_xpath(\n"
     ]
    },
    {
     "name": "stdout",
     "output_type": "stream",
     "text": [
      "Digite o nome do produto que deseja buscar!Car\n",
      "Buscando preços. Por favor, aguarde...\n"
     ]
    },
    {
     "name": "stderr",
     "output_type": "stream",
     "text": [
      "C:\\Users\\GLEISS~1.SAN\\AppData\\Local\\Temp/ipykernel_17028/1376974908.py:39: DeprecationWarning: find_elements_by_xpath is deprecated. Please use find_elements(by=By.XPATH, value=xpath) instead\n",
      "  titulos = driver.find_elements_by_xpath(\"//h2[@class='ui-search-item__title ui-search-item__group__element shops__items-group-details shops__item-title']\")\n",
      "C:\\Users\\GLEISS~1.SAN\\AppData\\Local\\Temp/ipykernel_17028/1376974908.py:44: DeprecationWarning: find_elements_by_xpath is deprecated. Please use find_elements(by=By.XPATH, value=xpath) instead\n",
      "  titulos = driver.find_elements_by_xpath(\"//h2[@class='ui-search-item__title shops__item-title']\")\n",
      "C:\\Users\\GLEISS~1.SAN\\AppData\\Local\\Temp/ipykernel_17028/1376974908.py:49: DeprecationWarning: find_elements_by_xpath is deprecated. Please use find_elements(by=By.XPATH, value=xpath) instead\n",
      "  precos = driver.find_elements_by_xpath(\n",
      "C:\\Users\\GLEISS~1.SAN\\AppData\\Local\\Temp/ipykernel_17028/1376974908.py:63: DeprecationWarning: find_element_by_xpath is deprecated. Please use find_element(by=By.XPATH, value=xpath) instead\n",
      "  botao_proximo = driver.find_element_by_xpath(\n"
     ]
    },
    {
     "name": "stdout",
     "output_type": "stream",
     "text": [
      "Estou na pagina 1\n",
      "Estou na pagina 2\n",
      "Estou na pagina 3\n",
      "Estou na pagina 4\n",
      "Estou na pagina 5\n"
     ]
    }
   ],
   "source": [
    "buscar_precos1()"
   ]
  }
 ],
 "metadata": {
  "kernelspec": {
   "display_name": "venv",
   "language": "python",
   "name": "venv"
  },
  "language_info": {
   "codemirror_mode": {
    "name": "ipython",
    "version": 3
   },
   "file_extension": ".py",
   "mimetype": "text/x-python",
   "name": "python",
   "nbconvert_exporter": "python",
   "pygments_lexer": "ipython3",
   "version": "3.9.7"
  }
 },
 "nbformat": 4,
 "nbformat_minor": 5
}
