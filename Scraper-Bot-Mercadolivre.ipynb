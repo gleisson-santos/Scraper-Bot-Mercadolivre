{
 "cells": [
  {
   "cell_type": "code",
   "execution_count": 1,
   "id": "9f5ec7ea",
   "metadata": {},
   "outputs": [],
   "source": [
    "from selenium.webdriver.common.keys import Keys\n",
    "from selenium.webdriver.common.by import By\n",
    "from selenium.webdriver.chrome.options import Options\n",
    "from webdriver_manager.chrome import ChromeDriverManager\n",
    "from selenium import webdriver\n",
    "import pandas as pd\n",
    "import time\n",
    "import os\n",
    "import random\n",
    "from time import sleep\n",
    "import schedule\n"
   ]
  },
  {
   "cell_type": "code",
   "execution_count": 7,
   "id": "df4eaf56",
   "metadata": {},
   "outputs": [
    {
     "name": "stdout",
     "output_type": "stream",
     "text": [
      "passei aqui\n",
      "\n"
     ]
    },
    {
     "name": "stderr",
     "output_type": "stream",
     "text": [
      "[WDM] - ====== WebDriver manager ======\n",
      "[WDM] - Current google-chrome version is 110.0.5481\n",
      "[WDM] - Get LATEST chromedriver version for 110.0.5481 google-chrome\n",
      "[WDM] - Driver [C:\\Users\\gleisson.santos\\.wdm\\drivers\\chromedriver\\win32\\110.0.5481.77\\chromedriver.exe] found in cache\n",
      "C:\\Users\\GLEISS~1.SAN\\AppData\\Local\\Temp/ipykernel_12716/830692776.py:5: DeprecationWarning: executable_path has been deprecated, please pass in a Service object\n",
      "  driver = webdriver.Chrome(ChromeDriverManager().install())\n"
     ]
    },
    {
     "name": "stdout",
     "output_type": "stream",
     "text": [
      "definido chromedriver\n"
     ]
    }
   ],
   "source": [
    "# 0 - Abrir o navegador\n",
    "print('passei aqui')\n",
    "options = Options()\n",
    "options.add_argument(\"start-maximized\")\n",
    "driver = webdriver.Chrome(ChromeDriverManager().install())\n",
    "chrome_options = webdriver.ChromeOptions()\n",
    "print('definido chromedriver')\n",
    "# 1 - Naveguei até o site(url)\n",
    "driver.get('https://www.mercadolivre.com.br')"
   ]
  },
  {
   "cell_type": "code",
   "execution_count": 8,
   "id": "913d95b3",
   "metadata": {},
   "outputs": [
    {
     "name": "stderr",
     "output_type": "stream",
     "text": [
      "C:\\Users\\GLEISS~1.SAN\\AppData\\Local\\Temp/ipykernel_12716/3371386307.py:3: DeprecationWarning: find_element_by_xpath is deprecated. Please use find_element(by=By.XPATH, value=xpath) instead\n",
      "  campo_pesquisa = driver.find_element_by_xpath(\n"
     ]
    },
    {
     "name": "stdout",
     "output_type": "stream",
     "text": [
      "Digite o nome do produto que deseja buscar!Esfera azul\n"
     ]
    }
   ],
   "source": [
    "# 2 - Pesquisar por produto\n",
    "sleep(random.randint(1, 3))\n",
    "campo_pesquisa = driver.find_element_by_xpath(\n",
    "    \"//input[@class='nav-search-input']\")\n",
    "sleep(random.randint(1, 3))\n",
    "campo_pesquisa.click()\n",
    "sleep(random.randint(1, 3))\n",
    "nome_produto = input('Digite o nome do produto que deseja buscar!')\n",
    "campo_pesquisa.send_keys(nome_produto)\n",
    "sleep(random.randint(1, 3))\n",
    "campo_pesquisa.send_keys(Keys.ENTER)\n",
    "sleep(random.randint(1, 3))"
   ]
  },
  {
   "cell_type": "code",
   "execution_count": 10,
   "id": "95145cbc",
   "metadata": {
    "collapsed": true
   },
   "outputs": [
    {
     "name": "stderr",
     "output_type": "stream",
     "text": [
      "C:\\Users\\GLEISS~1.SAN\\AppData\\Local\\Temp/ipykernel_12716/2501166671.py:3: DeprecationWarning: find_elements_by_xpath is deprecated. Please use find_elements(by=By.XPATH, value=xpath) instead\n",
      "  titulos = driver.find_elements_by_xpath(\"//h2[@class='ui-search-item__title shops__item-title']\")\n",
      "C:\\Users\\GLEISS~1.SAN\\AppData\\Local\\Temp/ipykernel_12716/2501166671.py:5: DeprecationWarning: find_elements_by_xpath is deprecated. Please use find_elements(by=By.XPATH, value=xpath) instead\n",
      "  precos = driver.find_elements_by_xpath(\n"
     ]
    },
    {
     "name": "stdout",
     "output_type": "stream",
     "text": [
      "Esfera De Vidro Pequena Para Cromoterapia - O Par\n",
      "Esfera Pequena Azul Cromaterapia Calmante E Cicatrizante\n",
      "Esfera Vidro Azul Peque Gliter Cromoterapia Pequena Calmante\n",
      "Papel Para Presente Bobina Couche 60cmx100m\n",
      "Esfera De Vidro Para Massagem Facial E Cromoterapia Estek\n",
      "Rolo Vinil Refletivo Grau Comercial Vermelho 1 M X 0,62 M\n",
      "Esfera De Vidro Pequena Para Cromoterapia - O Par\n",
      "Esfera De Vidro Cromoterapia Pq C/2 Pares Escolha As 2 Cores\n",
      "Dosador Esférico 1:1 Unique Pr Gratis Suporte E Manometro\n",
      "Registro Pvc Esfera Soldável 75mm Irrigação Azul\n",
      "Esfera Vidro Azul Peque Gliter Cromoterapia Pequena Calmante\n",
      "Esfera De Cromoterapia Glitter Sobrancelha Massagem Estética\n",
      "Esfera Vidro Verde Gliter Cromoterapia Pequena Operatório\n",
      "Massageadores Manuais Para Os Pés, Massagem Com Pés Esférico\n",
      "Esfera De Vidro Para Massagem Facial E Cromoterapia Estek\n",
      "Rolo Vinil Refletivo Grau Comercial Vermelha 5 M X 1,24 M\n",
      "Esfera Vidro Pequena Para Cromoterapia - O Par\n",
      "Esfera De Vidro Cromoterapia Kit C/ 2 Pares Escolha As Cores\n",
      "Ice Ball 2 Em 1 Modelo Rosqueável\n",
      "Dosador Esférico 1:1 Azul Unique\n",
      "Esfera De Vidro Pequena Para Cromoterapia - O Par\n",
      "Par De Esfera Cromoterapia Vidro Pequena Facial Azul\n",
      "Kit Par Esfera De Cromoterapia + Massageador Derma Spa 5em1\n",
      "Esfera Massagem G Estética Azul Par Cromoterapia Calmante\n",
      "Kit Par Esfera De Cromoterapia + Massageador Derma Spa 5em1\n",
      "Promo Conj 8 Bolas Árvore De Natal Vermelho Brilho Glitter\n",
      "Esfera De Vidro Pequena Cromoterapia O Par - Escolha A Cor\n",
      "Par De Esfera Cromoterapia Vidro Grande Corporal Azul\n",
      "Esfera De Vidro Pequena Para Cromoterapia Par O Melhor Preço\n",
      "Esfera De Vidro Pequena Para Cromoterapia - O Par\n",
      "Kit Esfera De Cromoterapia Vidro+caneta Depiladora De Buço\n",
      "Esfera Grande Par Cromoterapia Estetica Melhor Preço Vidro\n",
      "Esfera De Cromoterapia Para Sobrancelhas, Massagem, Estética\n",
      "Esferas De Vidro Pequena Cromoterapia, Massagem E Estética\n",
      "Esfera Grande Par Cromoterapia Estetica Melhor Preço Vidro\n",
      "Rolo Vinil Refletivo Grau Comercial Amarelo 2 M X 1,24 M\n",
      "Esfera De Vidro Para Massagem Facial E Cromoterapia Estek\n",
      "Esfera De Vidro Para Massagem Facial E Cromoterapia Estek\n",
      "Esfera Cromaterapia Calmante E Cicatrizante Pequena Azul\n",
      "Massageador Corporal Com As Mãos Luva 9 Bolas De Aço Esferas\n",
      "Esfera De Vidro Grande Para Cromoterapia - O Par\n",
      "Esferas De Vidro Pequena Cromoterapia, Facial Estética- Azul\n",
      "Conj 18 Bolas Árvore De Natal Branco Neve Azul Navy E Prata\n",
      "Esferas De Vidro Para Massagem, Estética E Cromoterapia P\n",
      "Esfera De Cromoterapia Estética Pequena Relaxante\n",
      "Carga Refil Parker Flow Esfero Azul Média S0909580\n",
      "Par De Esfera Cromoterapia Vidro Grande Corporal Azul Claro\n",
      "Esfera De Cromoterapia Para Tratamento Facial Relaxante Azul\n",
      "Esfera Azul De Vidro Para Cromoterapia Relaxante Facial\n",
      "Par De Esferas Para Cromoterapia Facial - Escolha Sua Cor\n",
      "Esferas De Vidro Par Tamanho P (par)\n",
      "Par De Esfera Vidro Pequena Facial Azul E Rosa Gliter\n",
      "Ice Ball Ortho Pauher\n",
      "Par De Esfera Cromoterapia Vidro Pequena Facial Azul Gliter\n",
      "Esferas Cromoterapia Tratamento Relaxante - Escolha Sua Cor\n",
      "Esfera De Vidro Pequena Para Cromoterapia Par O Melhor Preço\n"
     ]
    }
   ],
   "source": [
    "#titulos = driver.find_elements_by_xpath(\"//h2[@class='ui-search-item__title ui-search-item__group__element shops__items-group-details shops__item-title']\")\n",
    "\n",
    "titulos = driver.find_elements_by_xpath(\"//h2[@class='ui-search-item__title shops__item-title']\")\n",
    "\n",
    "precos = driver.find_elements_by_xpath(\n",
    "        \"//div[@class='ui-search-price ui-search-price--size-medium shops__price']//div[@class='ui-search-price__second-line shops__price-second-line']//span[@class='price-tag ui-search-price__part shops__price-part']//span[@class='price-tag-fraction']\")\n",
    "\n",
    "\n",
    "for titulo in titulos:\n",
    "    print(titulo.text)"
   ]
  },
  {
   "cell_type": "code",
   "execution_count": 11,
   "id": "8f29f462",
   "metadata": {},
   "outputs": [],
   "source": [
    "for titulo, preco in zip(titulos, precos):\n",
    "    with open('celulares.txt', 'a', newline='', encoding='utf-8') as arquivo:\n",
    "        arquivo.write(titulo.text + ',' + preco.text + os.linesep)\n"
   ]
  },
  {
   "cell_type": "code",
   "execution_count": 125,
   "id": "5a31062c",
   "metadata": {},
   "outputs": [],
   "source": [
    "def buscar_precos():\n",
    "    # 0 - Abrir o navegador\n",
    "    print('passei aqui')\n",
    "    options = Options()\n",
    "    options.add_argument(\"start-maximized\")\n",
    "    driver = webdriver.Chrome(ChromeDriverManager().install())\n",
    "    chrome_options = webdriver.ChromeOptions()\n",
    "    print('definido chromedriver')\n",
    "    # 1 - Naveguei até o site(url)\n",
    "    driver.get('https://www.mercadolivre.com.br')\n",
    "\n",
    "\n",
    "    # 2 - Pesquisar por produto\n",
    "    sleep(random.randint(3, 5))\n",
    "    campo_pesquisa = driver.find_element_by_xpath(\n",
    "        \"//input[@class='nav-search-input']\")\n",
    "    sleep(random.randint(3, 5))\n",
    "    campo_pesquisa.click()\n",
    "    sleep(random.randint(3, 5))\n",
    "    nome_produto = input('Digite o nome do produto que deseja buscar!')\n",
    "    campo_pesquisa.send_keys(nome_produto)\n",
    "    sleep(random.randint(3, 5))\n",
    "    campo_pesquisa.send_keys(Keys.ENTER)\n",
    "    sleep(random.randint(3, 5))\n",
    "\n",
    "    while True:\n",
    "        # 4 - Extrair o titulo e preço\n",
    "        try:\n",
    "            sleep(random.randint(3, 5))\n",
    "            titulos = driver.find_elements_by_xpath(\"//h2[@class='ui-search-item__title ui-search-item__group__element shops__items-group-details shops__item-title']\")\n",
    "        except:\n",
    "            print('Não estamos no formato thumbnail')\n",
    "        try:\n",
    "            sleep(random.randint(3, 5))\n",
    "            titulos = driver.find_elements_by_xpath(\"//h2[@class='ui-search-item__title shops__item-title']\")\n",
    "        except:\n",
    "            print('Não estamos no format listagem')\n",
    "\n",
    "        sleep(random.randint(3, 5))         \n",
    "        precos = driver.find_elements_by_xpath(\n",
    "        \"//div[@class='ui-search-price ui-search-price--size-medium shops__price']//div[@class='ui-search-price__second-line shops__price-second-line']//span[@class='price-tag ui-search-price__part shops__price-part']//span[@class='price-tag-fraction']\")\n",
    "\n",
    "        for titulo, preco in zip(titulos, precos):\n",
    "            with open('celulares.txt', 'a', newline='', encoding='utf-8') as arquivo:\n",
    "                arquivo.write(titulo.text + ',' + preco.text + os.linesep)\n",
    "\n"
   ]
  },
  {
   "cell_type": "code",
   "execution_count": 126,
   "id": "85148b42",
   "metadata": {
    "collapsed": true
   },
   "outputs": [
    {
     "name": "stdout",
     "output_type": "stream",
     "text": [
      "passei aqui\n",
      "\n"
     ]
    },
    {
     "name": "stderr",
     "output_type": "stream",
     "text": [
      "[WDM] - ====== WebDriver manager ======\n",
      "[WDM] - Current google-chrome version is 110.0.5481\n",
      "[WDM] - Get LATEST chromedriver version for 110.0.5481 google-chrome\n",
      "[WDM] - Driver [C:\\Users\\gleisson.santos\\.wdm\\drivers\\chromedriver\\win32\\110.0.5481.77\\chromedriver.exe] found in cache\n",
      "C:\\Users\\GLEISS~1.SAN\\AppData\\Local\\Temp/ipykernel_9304/1923745267.py:6: DeprecationWarning: executable_path has been deprecated, please pass in a Service object\n",
      "  driver = webdriver.Chrome(ChromeDriverManager().install())\n"
     ]
    },
    {
     "name": "stdout",
     "output_type": "stream",
     "text": [
      "definido chromedriver\n"
     ]
    },
    {
     "name": "stderr",
     "output_type": "stream",
     "text": [
      "C:\\Users\\GLEISS~1.SAN\\AppData\\Local\\Temp/ipykernel_9304/1923745267.py:15: DeprecationWarning: find_element_by_xpath is deprecated. Please use find_element(by=By.XPATH, value=xpath) instead\n",
      "  campo_pesquisa = driver.find_element_by_xpath(\n"
     ]
    },
    {
     "name": "stdout",
     "output_type": "stream",
     "text": [
      "Digite o nome do produto que deseja buscar!caneta bick\n"
     ]
    },
    {
     "name": "stderr",
     "output_type": "stream",
     "text": [
      "C:\\Users\\GLEISS~1.SAN\\AppData\\Local\\Temp/ipykernel_9304/1923745267.py:30: DeprecationWarning: find_elements_by_xpath is deprecated. Please use find_elements(by=By.XPATH, value=xpath) instead\n",
      "  titulos = driver.find_elements_by_xpath(\"//h2[@class='ui-search-item__title ui-search-item__group__element shops__items-group-details shops__item-title']\")\n",
      "C:\\Users\\GLEISS~1.SAN\\AppData\\Local\\Temp/ipykernel_9304/1923745267.py:35: DeprecationWarning: find_elements_by_xpath is deprecated. Please use find_elements(by=By.XPATH, value=xpath) instead\n",
      "  titulos = driver.find_elements_by_xpath(\"//h2[@class='ui-search-item__title shops__item-title']\")\n",
      "C:\\Users\\GLEISS~1.SAN\\AppData\\Local\\Temp/ipykernel_9304/1923745267.py:40: DeprecationWarning: find_elements_by_xpath is deprecated. Please use find_elements(by=By.XPATH, value=xpath) instead\n",
      "  precos = driver.find_elements_by_xpath(\n"
     ]
    },
    {
     "name": "stdout",
     "output_type": "stream",
     "text": [
      "Não estamos no formato thumbnail\n",
      "Não estamos no format listagem\n"
     ]
    },
    {
     "ename": "KeyboardInterrupt",
     "evalue": "",
     "output_type": "error",
     "traceback": [
      "\u001b[1;31m---------------------------------------------------------------------------\u001b[0m",
      "\u001b[1;31mKeyboardInterrupt\u001b[0m                         Traceback (most recent call last)",
      "\u001b[1;32mC:\\Users\\GLEISS~1.SAN\\AppData\\Local\\Temp/ipykernel_9304/988659013.py\u001b[0m in \u001b[0;36m<module>\u001b[1;34m\u001b[0m\n\u001b[1;32m----> 1\u001b[1;33m \u001b[0mbuscar_precos\u001b[0m\u001b[1;33m(\u001b[0m\u001b[1;33m)\u001b[0m\u001b[1;33m\u001b[0m\u001b[1;33m\u001b[0m\u001b[0m\n\u001b[0m",
      "\u001b[1;32mC:\\Users\\GLEISS~1.SAN\\AppData\\Local\\Temp/ipykernel_9304/1923745267.py\u001b[0m in \u001b[0;36mbuscar_precos\u001b[1;34m()\u001b[0m\n\u001b[0;32m     37\u001b[0m             \u001b[0mprint\u001b[0m\u001b[1;33m(\u001b[0m\u001b[1;34m'Não estamos no format listagem'\u001b[0m\u001b[1;33m)\u001b[0m\u001b[1;33m\u001b[0m\u001b[1;33m\u001b[0m\u001b[0m\n\u001b[0;32m     38\u001b[0m \u001b[1;33m\u001b[0m\u001b[0m\n\u001b[1;32m---> 39\u001b[1;33m         \u001b[0msleep\u001b[0m\u001b[1;33m(\u001b[0m\u001b[0mrandom\u001b[0m\u001b[1;33m.\u001b[0m\u001b[0mrandint\u001b[0m\u001b[1;33m(\u001b[0m\u001b[1;36m3\u001b[0m\u001b[1;33m,\u001b[0m \u001b[1;36m5\u001b[0m\u001b[1;33m)\u001b[0m\u001b[1;33m)\u001b[0m\u001b[1;33m\u001b[0m\u001b[1;33m\u001b[0m\u001b[0m\n\u001b[0m\u001b[0;32m     40\u001b[0m         precos = driver.find_elements_by_xpath(\n\u001b[0;32m     41\u001b[0m         \"//div[@class='ui-search-price ui-search-price--size-medium shops__price']//div[@class='ui-search-price__second-line shops__price-second-line']//span[@class='price-tag ui-search-price__part shops__price-part']//span[@class='price-tag-fraction']\")\n",
      "\u001b[1;31mKeyboardInterrupt\u001b[0m: "
     ]
    }
   ],
   "source": [
    "buscar_precos()"
   ]
  },
  {
   "cell_type": "code",
   "execution_count": 13,
   "id": "0cca26f3",
   "metadata": {},
   "outputs": [
    {
     "name": "stderr",
     "output_type": "stream",
     "text": [
      "C:\\Users\\GLEISS~1.SAN\\AppData\\Local\\Temp/ipykernel_12716/236236510.py:5: DeprecationWarning: find_element_by_xpath is deprecated. Please use find_element(by=By.XPATH, value=xpath) instead\n",
      "  botao_proximo = driver.find_element_by_xpath(\n"
     ]
    }
   ],
   "source": [
    "# 5 - Navegar até o próxima página\n",
    "try:\n",
    "    sleep(random.randint(3, 5))\n",
    "    driver.execute_script('window.scrollTo(0,document.body.scrollHeight);')\n",
    "    botao_proximo = driver.find_element_by_xpath(\n",
    "        \"//li[@class='andes-pagination__button andes-pagination__button--next']\")\n",
    "    sleep(random.randint(3, 5))\n",
    "    botao_proximo.click()\n",
    "except:\n",
    "    pass\n"
   ]
  }
 ],
 "metadata": {
  "kernelspec": {
   "display_name": "venv",
   "language": "python",
   "name": "venv"
  },
  "language_info": {
   "codemirror_mode": {
    "name": "ipython",
    "version": 3
   },
   "file_extension": ".py",
   "mimetype": "text/x-python",
   "name": "python",
   "nbconvert_exporter": "python",
   "pygments_lexer": "ipython3",
   "version": "3.9.7"
  }
 },
 "nbformat": 4,
 "nbformat_minor": 5
}
